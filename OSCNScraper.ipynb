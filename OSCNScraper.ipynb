{
 "cells": [
  {
   "cell_type": "markdown",
   "metadata": {},
   "source": [
    "# **OSCN Scraper**"
   ]
  },
  {
   "cell_type": "markdown",
   "metadata": {},
   "source": [
    "### Necessary Libraries"
   ]
  },
  {
   "cell_type": "code",
   "execution_count": 1,
   "metadata": {},
   "outputs": [],
   "source": [
    "# from elasticsearch import Elasticsearch\n",
    "# from elasticsearch_dsl import Search\n",
    "from datetime import datetime\n",
    "# from elasticsearch import helpers\n",
    "import re\n",
    "import numpy as np\n",
    "import pandas as pd\n",
    "import oscn\n",
    "import json\n",
    "import pickle\n",
    "import zlib\n",
    "from io import StringIO\n",
    "from html.parser import HTMLParser\n",
    "import csv\n",
    "\n",
    "\n",
    "# es_client = Elasticsearch(http_compress=True)"
   ]
  },
  {
   "cell_type": "markdown",
   "metadata": {},
   "source": [
    "### Search Parameters"
   ]
  },
  {
   "cell_type": "code",
   "execution_count": 2,
   "metadata": {},
   "outputs": [],
   "source": [
    "# years = ['2000','2001','2002','2003','2004','2005','2006','2007','2008','2009','2010','2011','2012','2013','2014','2015','2016','2017','2018','2019','2020','2021']\n",
    "years = ['2021']\n",
    "counties = ['tulsa']\n",
    "types =['CF']"
   ]
  },
  {
   "cell_type": "markdown",
   "metadata": {},
   "source": [
    "### Pull cases and save as .oscn files - **WARNING LONG RUN TIME WARNING** - "
   ]
  },
  {
   "cell_type": "code",
   "execution_count": 5,
   "metadata": {},
   "outputs": [
    {
     "name": "stdout",
     "output_type": "stream",
     "text": [
      "OSCN_Scraper/CF.tulsa.2021.oscn: 1133\n"
     ]
    }
   ],
   "source": [
    "for county in counties:\n",
    "  for year in years:\n",
    "    for type in types:      \n",
    "      cases=oscn.request.CaseList(type=type, year=year,county=county)\n",
    "      all_cases = [c for c in cases]\n",
    "      file_name = f'OSCN_Scraper/{type}.{county}.{year}.oscn'\n",
    "      f = open(file_name, 'wb')\n",
    "      pickle.dump(all_cases, f)\n",
    "      f.close()\n",
    "      print(f'{file_name}: {len(all_cases)}')"
   ]
  },
  {
   "cell_type": "markdown",
   "metadata": {},
   "source": [
    "### Combine OSCN files into one case file"
   ]
  },
  {
   "cell_type": "code",
   "execution_count": null,
   "metadata": {},
   "outputs": [],
   "source": [
    "saved_cases = []\n",
    "\n",
    "case_count =  0 \n",
    "\n",
    "for county in counties:\n",
    "  for year in years:\n",
    "    for type in types:      \n",
    "      file_name = f'data/{type}.{county}.{year}.oscn'\n",
    "      new_cases = pickle.load(open(file_name, 'rb'))\n",
    "      new_case_count = len(new_cases)\n",
    "      case_count += new_case_count\n",
    "      print(f'{file_name} added {new_case_count}')\n",
    "      saved_cases += new_cases\n",
    "        \n",
    "print(f'counted case: {case_count} length saved {len(saved_cases)}')"
   ]
  },
  {
   "cell_type": "markdown",
   "metadata": {},
   "source": [
    "### Add column headers"
   ]
  },
  {
   "cell_type": "code",
   "execution_count": null,
   "metadata": {},
   "outputs": [],
   "source": [
    "columns = ['Filed','County','Type','Judge' ,'Cnumber', 'Docket','Source']\n",
    "case_data = lambda c: [c.filed, c.county, c.type, c.judge, c.number, c.docket, c.source]\n",
    "all_cases = pd.DataFrame([case_data(c) for c in saved_cases], columns = columns)"
   ]
  },
  {
   "cell_type": "markdown",
   "metadata": {},
   "source": [
    "### Convert Filed Date to datetime and extract year/month"
   ]
  },
  {
   "cell_type": "code",
   "execution_count": null,
   "metadata": {},
   "outputs": [],
   "source": [
    "all_cases['Filed'] = pd.to_datetime(all_cases['Filed'])\n",
    "all_cases['Year'], all_cases['Month'] = all_cases['Filed'].dt.year, all_cases['Filed'].dt.month"
   ]
  },
  {
   "cell_type": "markdown",
   "metadata": {},
   "source": [
    "### Get count of cases by year and/or month"
   ]
  },
  {
   "cell_type": "code",
   "execution_count": null,
   "metadata": {},
   "outputs": [],
   "source": [
    "# table with totals by year\n",
    "yearcount = all_cases[[\"Docket\", \"Year\"]]\n",
    "yearcount.rename(columns = {'Docket':'DocketCount'}, inplace = True) \n",
    "yearcount.groupby(['Year']).count()\n",
    "\n",
    "# table with totals by year & month\n",
    "#monthcount = all_cases[[\"Docket\", \"Year\", \"Month\"]]\n",
    "#monthcount.rename(columns = {'Docket':'DocketCount'}, inplace = True) \n",
    "#monthcount.groupby(['Year', 'Month']).count()"
   ]
  },
  {
   "cell_type": "code",
   "execution_count": null,
   "metadata": {},
   "outputs": [],
   "source": [
    "pd.set_option('display.max_colwidth', 40) # Set to max (-1) to view the whole JSON string\n",
    "df = pd.DataFrame(all_cases)\n",
    "df['CaseNumber'] = \"CF-\" + df['Year'].astype(str) + \"-\" + df['Cnumber'].astype(str)\n",
    "df"
   ]
  },
  {
   "cell_type": "code",
   "execution_count": null,
   "metadata": {},
   "outputs": [],
   "source": []
  },
  {
   "cell_type": "code",
   "execution_count": null,
   "metadata": {},
   "outputs": [],
   "source": []
  },
  {
   "cell_type": "code",
   "execution_count": null,
   "metadata": {},
   "outputs": [],
   "source": []
  },
  {
   "cell_type": "code",
   "execution_count": null,
   "metadata": {},
   "outputs": [],
   "source": [
    "# TESTING -------"
   ]
  },
  {
   "cell_type": "code",
   "execution_count": null,
   "metadata": {},
   "outputs": [],
   "source": [
    "from pprint import pprint\n",
    "pprint(df.to_dict('Docket'))"
   ]
  },
  {
   "cell_type": "code",
   "execution_count": null,
   "metadata": {},
   "outputs": [],
   "source": [
    "from io import StringIO\n",
    "from html.parser import HTMLParser\n",
    "\n",
    "class MLStripper(HTMLParser):\n",
    "    def __init__(self):\n",
    "        super().__init__()\n",
    "        self.reset()\n",
    "        self.strict = False\n",
    "        self.convert_charrefs= True\n",
    "        self.text = StringIO()\n",
    "    def handle_data(self, d):\n",
    "        self.text.write(d)\n",
    "    def get_data(self):\n",
    "        return self.text.getvalue()\n",
    "\n",
    "def strip_tags(html):\n",
    "    s = MLStripper()\n",
    "    s.feed(html)\n",
    "    return s.get_data()"
   ]
  },
  {
   "cell_type": "code",
   "execution_count": null,
   "metadata": {},
   "outputs": [],
   "source": [
    "dock = strip_tags(df.Docket)"
   ]
  }
 ],
 "metadata": {
  "kernelspec": {
   "display_name": "Python 3",
   "language": "python",
   "name": "python3"
  },
  "language_info": {
   "codemirror_mode": {
    "name": "ipython",
    "version": 3
   },
   "file_extension": ".py",
   "mimetype": "text/x-python",
   "name": "python",
   "nbconvert_exporter": "python",
   "pygments_lexer": "ipython3",
   "version": "3.8.9"
  }
 },
 "nbformat": 4,
 "nbformat_minor": 4
}
